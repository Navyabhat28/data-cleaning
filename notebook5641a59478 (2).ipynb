{
 "cells": [
  {
   "cell_type": "markdown",
   "metadata": {},
   "source": [
    "**This notebook is an exercise in the [Data Cleaning](https://www.kaggle.com/learn/data-cleaning) course.  You can reference the tutorial at [this link](https://www.kaggle.com/alexisbcook/handling-missing-values).**\n",
    "\n",
    "---\n"
   ]
  },
  {
   "cell_type": "markdown",
   "metadata": {},
   "source": [
    "In this exercise, you'll apply what you learned in the **Handling missing values** tutorial.\n",
    "\n",
    "# Setup\n",
    "\n",
    "The questions below will give you feedback on your work. Run the following cell to set up the feedback system."
   ]
  },
  {
   "cell_type": "code",
   "execution_count": null,
   "metadata": {
    "execution": {
     "iopub.execute_input": "2021-09-05T02:49:48.188348Z",
     "iopub.status.busy": "2021-09-05T02:49:48.187973Z",
     "iopub.status.idle": "2021-09-05T02:49:48.19723Z",
     "shell.execute_reply": "2021-09-05T02:49:48.194492Z",
     "shell.execute_reply.started": "2021-09-05T02:49:48.188315Z"
    }
   },
   "outputs": [],
   "source": [
    "from learntools.core import binder\n",
    "binder.bind(globals())\n",
    "from learntools.data_cleaning.ex1 import *\n",
    "print(\"Setup Complete\")"
   ]
  },
  {
   "cell_type": "markdown",
   "metadata": {},
   "source": [
    "# 1) Take a first look at the data\n",
    "\n",
    "Run the next code cell to load in the libraries and dataset you'll use to complete the exercise."
   ]
  },
  {
   "cell_type": "code",
   "execution_count": null,
   "metadata": {
    "execution": {
     "iopub.execute_input": "2021-09-05T02:49:48.20316Z",
     "iopub.status.busy": "2021-09-05T02:49:48.202802Z",
     "iopub.status.idle": "2021-09-05T02:49:50.133882Z",
     "shell.execute_reply": "2021-09-05T02:49:50.132544Z",
     "shell.execute_reply.started": "2021-09-05T02:49:48.203119Z"
    }
   },
   "outputs": [],
   "source": [
    "# modules we'll use\n",
    "import pandas as pd\n",
    "import numpy as np\n",
    "\n",
    "# read in all our data\n",
    "sf_permits = pd.read_csv(\"../input/building-permit-applications-data/Building_Permits.csv\")\n",
    "\n",
    "# set seed for reproducibility\n",
    "np.random.seed(0)"
   ]
  },
  {
   "cell_type": "markdown",
   "metadata": {},
   "source": [
    "Use the code cell below to print the first five rows of the `sf_permits` DataFrame."
   ]
  },
  {
   "cell_type": "code",
   "execution_count": null,
   "metadata": {
    "execution": {
     "iopub.execute_input": "2021-09-05T02:49:50.136347Z",
     "iopub.status.busy": "2021-09-05T02:49:50.1359Z",
     "iopub.status.idle": "2021-09-05T02:49:50.171571Z",
     "shell.execute_reply": "2021-09-05T02:49:50.170477Z",
     "shell.execute_reply.started": "2021-09-05T02:49:50.136299Z"
    }
   },
   "outputs": [],
   "source": [
    "#To see first 5 rows in the dataset\n",
    "#There are many null values in the dataset\n",
    "sf_permits.head()"
   ]
  },
  {
   "cell_type": "markdown",
   "metadata": {},
   "source": [
    "Does the dataset have any missing values?  Once you have an answer, run the code cell below to get credit for your work."
   ]
  },
  {
   "cell_type": "markdown",
   "metadata": {},
   "source": [
    "**To get the missing values info**"
   ]
  },
  {
   "cell_type": "markdown",
   "metadata": {},
   "source": []
  },
  {
   "cell_type": "code",
   "execution_count": null,
   "metadata": {
    "execution": {
     "iopub.execute_input": "2021-09-05T02:49:50.174334Z",
     "iopub.status.busy": "2021-09-05T02:49:50.173903Z",
     "iopub.status.idle": "2021-09-05T02:49:50.637648Z",
     "shell.execute_reply": "2021-09-05T02:49:50.636483Z",
     "shell.execute_reply.started": "2021-09-05T02:49:50.17429Z"
    }
   },
   "outputs": [],
   "source": [
    "missing_values = sf_permits.isnull().sum()\n",
    "missing_values"
   ]
  },
  {
   "cell_type": "markdown",
   "metadata": {},
   "source": []
  },
  {
   "cell_type": "code",
   "execution_count": null,
   "metadata": {
    "execution": {
     "iopub.execute_input": "2021-09-05T02:51:15.527456Z",
     "iopub.status.busy": "2021-09-05T02:51:15.526897Z",
     "iopub.status.idle": "2021-09-05T02:51:15.534923Z",
     "shell.execute_reply": "2021-09-05T02:51:15.533692Z",
     "shell.execute_reply.started": "2021-09-05T02:51:15.527393Z"
    }
   },
   "outputs": [],
   "source": [
    "total_value = np.product(sf_permits.shape)\n",
    "total_missing_values = missing_values.sum()\n",
    "print(total_missing_values)"
   ]
  },
  {
   "cell_type": "code",
   "execution_count": null,
   "metadata": {
    "execution": {
     "iopub.execute_input": "2021-09-05T02:49:50.646585Z",
     "iopub.status.busy": "2021-09-05T02:49:50.646169Z",
     "iopub.status.idle": "2021-09-05T02:49:50.658078Z",
     "shell.execute_reply": "2021-09-05T02:49:50.657276Z",
     "shell.execute_reply.started": "2021-09-05T02:49:50.646543Z"
    }
   },
   "outputs": [],
   "source": [
    "# Line below will give you a hint\n",
    "#q1.hint()"
   ]
  },
  {
   "cell_type": "markdown",
   "metadata": {},
   "source": [
    "# 2) How many missing data points do we have?\n",
    "\n",
    "What percentage of the values in the dataset are missing?  Your answer should be a number between 0 and 100.  (If 1/4 of the values in the dataset are missing, the answer is 25.)"
   ]
  },
  {
   "cell_type": "code",
   "execution_count": null,
   "metadata": {
    "execution": {
     "iopub.execute_input": "2021-09-05T02:51:24.513295Z",
     "iopub.status.busy": "2021-09-05T02:51:24.512686Z",
     "iopub.status.idle": "2021-09-05T02:51:24.522127Z",
     "shell.execute_reply": "2021-09-05T02:51:24.52101Z",
     "shell.execute_reply.started": "2021-09-05T02:51:24.513252Z"
    }
   },
   "outputs": [],
   "source": [
    "# TODO: Your code here!\n",
    "percent_missing = (total_missing_values/total_value) * 100\n",
    "print(percent_missing)\n",
    "\n",
    "# Check your answer\n",
    "q2.check()"
   ]
  },
  {
   "cell_type": "code",
   "execution_count": null,
   "metadata": {
    "execution": {
     "iopub.execute_input": "2021-09-05T02:51:28.945361Z",
     "iopub.status.busy": "2021-09-05T02:51:28.944989Z",
     "iopub.status.idle": "2021-09-05T02:51:28.949531Z",
     "shell.execute_reply": "2021-09-05T02:51:28.9484Z",
     "shell.execute_reply.started": "2021-09-05T02:51:28.945326Z"
    }
   },
   "outputs": [],
   "source": [
    "# Lines below will give you a hint or solution code\n",
    "#q2.hint()\n",
    "#q2.solution()"
   ]
  },
  {
   "cell_type": "markdown",
   "metadata": {},
   "source": [
    "# 3) Figure out why the data is missing\n",
    "\n",
    "Look at the columns **\"Street Number Suffix\"** and **\"Zipcode\"** from the [San Francisco Building Permits dataset](https://www.kaggle.com/aparnashastry/building-permit-applications-data). Both of these contain missing values. \n",
    "- Which, if either, are missing because they don't exist? \n",
    "- Which, if either, are missing because they weren't recorded?  \n",
    "\n",
    "Once you have an answer, run the code cell below."
   ]
  },
  {
   "cell_type": "code",
   "execution_count": null,
   "metadata": {
    "execution": {
     "iopub.execute_input": "2021-09-05T02:51:36.195705Z",
     "iopub.status.busy": "2021-09-05T02:51:36.195285Z",
     "iopub.status.idle": "2021-09-05T02:51:36.204945Z",
     "shell.execute_reply": "2021-09-05T02:51:36.203655Z",
     "shell.execute_reply.started": "2021-09-05T02:51:36.19567Z"
    }
   },
   "outputs": [],
   "source": [
    "# Check your answer (Run this code cell to receive credit!)\n",
    "q3.check()"
   ]
  },
  {
   "cell_type": "code",
   "execution_count": null,
   "metadata": {
    "execution": {
     "iopub.execute_input": "2021-09-05T02:51:47.85366Z",
     "iopub.status.busy": "2021-09-05T02:51:47.853287Z",
     "iopub.status.idle": "2021-09-05T02:51:47.857466Z",
     "shell.execute_reply": "2021-09-05T02:51:47.8564Z",
     "shell.execute_reply.started": "2021-09-05T02:51:47.853632Z"
    }
   },
   "outputs": [],
   "source": [
    "# Line below will give you a hint\n",
    "#q3.hint()"
   ]
  },
  {
   "cell_type": "markdown",
   "metadata": {},
   "source": [
    "# 4) Drop missing values: rows\n",
    "\n",
    "If you removed all of the rows of `sf_permits` with missing values, how many rows are left?\n",
    "\n",
    "**Note**: Do not change the value of `sf_permits` when checking this.  "
   ]
  },
  {
   "cell_type": "code",
   "execution_count": null,
   "metadata": {
    "execution": {
     "iopub.execute_input": "2021-09-05T02:51:51.565887Z",
     "iopub.status.busy": "2021-09-05T02:51:51.565356Z",
     "iopub.status.idle": "2021-09-05T02:51:52.042214Z",
     "shell.execute_reply": "2021-09-05T02:51:52.041152Z",
     "shell.execute_reply.started": "2021-09-05T02:51:51.565854Z"
    }
   },
   "outputs": [],
   "source": [
    "# TODO: Your code here!\n",
    "sf_permits.dropna()"
   ]
  },
  {
   "cell_type": "markdown",
   "metadata": {},
   "source": [
    "Once you have an answer, run the code cell below."
   ]
  },
  {
   "cell_type": "code",
   "execution_count": null,
   "metadata": {
    "execution": {
     "iopub.execute_input": "2021-09-05T02:51:55.931333Z",
     "iopub.status.busy": "2021-09-05T02:51:55.930909Z",
     "iopub.status.idle": "2021-09-05T02:51:55.940729Z",
     "shell.execute_reply": "2021-09-05T02:51:55.939547Z",
     "shell.execute_reply.started": "2021-09-05T02:51:55.931297Z"
    }
   },
   "outputs": [],
   "source": [
    "# Check your answer (Run this code cell to receive credit!)\n",
    "q4.check()"
   ]
  },
  {
   "cell_type": "code",
   "execution_count": null,
   "metadata": {
    "execution": {
     "iopub.execute_input": "2021-09-05T02:49:51.208387Z",
     "iopub.status.busy": "2021-09-05T02:49:51.208082Z",
     "iopub.status.idle": "2021-09-05T02:49:51.216229Z",
     "shell.execute_reply": "2021-09-05T02:49:51.215493Z",
     "shell.execute_reply.started": "2021-09-05T02:49:51.208357Z"
    }
   },
   "outputs": [],
   "source": [
    "# Line below will give you a hint\n",
    "#q4.hint()"
   ]
  },
  {
   "cell_type": "markdown",
   "metadata": {},
   "source": [
    "# 5) Drop missing values: columns\n",
    "\n",
    "Now try removing all the columns with empty values.  \n",
    "- Create a new DataFrame called `sf_permits_with_na_dropped` that has all of the columns with empty values removed.  \n",
    "- How many columns were removed from the original `sf_permits` DataFrame? Use this number to set the value of the `dropped_columns` variable below."
   ]
  },
  {
   "cell_type": "code",
   "execution_count": null,
   "metadata": {
    "execution": {
     "iopub.execute_input": "2021-09-05T02:52:02.250375Z",
     "iopub.status.busy": "2021-09-05T02:52:02.25Z",
     "iopub.status.idle": "2021-09-05T02:52:02.731685Z",
     "shell.execute_reply": "2021-09-05T02:52:02.730684Z",
     "shell.execute_reply.started": "2021-09-05T02:52:02.250345Z"
    }
   },
   "outputs": [],
   "source": [
    "# TODO: Your code here\n",
    "sf_permits_with_na_dropped = sf_permits.dropna(axis=1) \n",
    "columns_in_original_dataset = sf_permits.shape[1]\n",
    "columns_in_dropped_dataset = sf_permits_with_na_dropped.shape[1]\n",
    "dropped_columns = columns_in_original_dataset - columns_in_dropped_dataset\n",
    "\n",
    "# Check your answer\n",
    "q5.check()"
   ]
  },
  {
   "cell_type": "code",
   "execution_count": null,
   "metadata": {
    "execution": {
     "iopub.execute_input": "2021-09-05T02:52:05.824697Z",
     "iopub.status.busy": "2021-09-05T02:52:05.824203Z",
     "iopub.status.idle": "2021-09-05T02:52:05.830352Z",
     "shell.execute_reply": "2021-09-05T02:52:05.829094Z",
     "shell.execute_reply.started": "2021-09-05T02:52:05.824635Z"
    }
   },
   "outputs": [],
   "source": [
    "# Lines below will give you a hint or solution code\n",
    "#q5.hint()\n",
    "#q5.solution()"
   ]
  },
  {
   "cell_type": "markdown",
   "metadata": {},
   "source": [
    "# 6) Fill in missing values automatically\n",
    "\n",
    "Try replacing all the NaN's in the `sf_permits` data with the one that comes directly after it and then replacing any remaining NaN's with 0.  Set the result to a new DataFrame `sf_permits_with_na_imputed`."
   ]
  },
  {
   "cell_type": "code",
   "execution_count": null,
   "metadata": {
    "execution": {
     "iopub.execute_input": "2021-09-05T02:52:10.705413Z",
     "iopub.status.busy": "2021-09-05T02:52:10.70503Z",
     "iopub.status.idle": "2021-09-05T02:52:12.058348Z",
     "shell.execute_reply": "2021-09-05T02:52:12.057387Z",
     "shell.execute_reply.started": "2021-09-05T02:52:10.705377Z"
    }
   },
   "outputs": [],
   "source": [
    "# TODO: Your code here\n",
    "sf_permits_with_na_imputed = sf_permits.fillna(method='bfill',axis=0).fillna(0)\n",
    "\n",
    "# Check your answer\n",
    "q6.check()"
   ]
  },
  {
   "cell_type": "code",
   "execution_count": null,
   "metadata": {
    "execution": {
     "iopub.execute_input": "2021-09-05T02:52:15.247123Z",
     "iopub.status.busy": "2021-09-05T02:52:15.246748Z",
     "iopub.status.idle": "2021-09-05T02:52:15.251879Z",
     "shell.execute_reply": "2021-09-05T02:52:15.251044Z",
     "shell.execute_reply.started": "2021-09-05T02:52:15.247092Z"
    }
   },
   "outputs": [],
   "source": [
    "# Lines below will give you a hint or solution code\n",
    "#q6.hint()\n",
    "#q6.solution()"
   ]
  },
  {
   "cell_type": "markdown",
   "metadata": {},
   "source": [
    "# More practice\n",
    "\n",
    "If you're looking for more practice handling missing values:\n",
    "\n",
    "* Check out [this noteboook](https://www.kaggle.com/alexisbcook/missing-values) on handling missing values using scikit-learn's imputer. \n",
    "* Look back at the \"Zipcode\" column in the `sf_permits` dataset, which has some missing values. How would you go about figuring out what the actual zipcode of each address should be? (You might try using another dataset. You can search for datasets about San Fransisco on the [Datasets listing](https://www.kaggle.com/datasets).) \n",
    "\n",
    "# Keep going\n",
    "\n",
    "In the next lesson, learn how to [**apply scaling and normalization**](https://www.kaggle.com/alexisbcook/scaling-and-normalization) to transform your data."
   ]
  },
  {
   "cell_type": "markdown",
   "metadata": {},
   "source": [
    "---\n",
    "\n",
    "\n",
    "\n",
    "\n",
    "*Have questions or comments? Visit the [Learn Discussion forum](https://www.kaggle.com/learn-forum/172650) to chat with other Learners.*"
   ]
  }
 ],
 "metadata": {
  "kernelspec": {
   "display_name": "Python 3",
   "language": "python",
   "name": "python3"
  },
  "language_info": {
   "codemirror_mode": {
    "name": "ipython",
    "version": 3
   },
   "file_extension": ".py",
   "mimetype": "text/x-python",
   "name": "python",
   "nbconvert_exporter": "python",
   "pygments_lexer": "ipython3",
   "version": "3.8.3"
  },
  "varInspector": {
   "cols": {
    "lenName": 16,
    "lenType": 16,
    "lenVar": 40
   },
   "kernels_config": {
    "python": {
     "delete_cmd_postfix": "",
     "delete_cmd_prefix": "del ",
     "library": "var_list.py",
     "varRefreshCmd": "print(var_dic_list())"
    },
    "r": {
     "delete_cmd_postfix": ") ",
     "delete_cmd_prefix": "rm(",
     "library": "var_list.r",
     "varRefreshCmd": "cat(var_dic_list()) "
    }
   },
   "types_to_exclude": [
    "module",
    "function",
    "builtin_function_or_method",
    "instance",
    "_Feature"
   ],
   "window_display": false
  }
 },
 "nbformat": 4,
 "nbformat_minor": 4
}
